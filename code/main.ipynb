{
 "cells": [
  {
   "cell_type": "markdown",
   "metadata": {},
   "source": [
    "IMPORTS"
   ]
  },
  {
   "cell_type": "code",
   "execution_count": 33,
   "metadata": {},
   "outputs": [],
   "source": [
    "import pandas as pd\n",
    "import numpy as np\n",
    "import matplotlib as mp\n",
    "import seaborn as sb\n",
    "import sklearn as sk"
   ]
  },
  {
   "cell_type": "markdown",
   "metadata": {},
   "source": [
    "DATA PRE-PROCESSING and VISUALISING"
   ]
  },
  {
   "cell_type": "code",
   "execution_count": 34,
   "metadata": {},
   "outputs": [
    {
     "name": "stdout",
     "output_type": "stream",
     "text": [
      "            DATE_TIME   CB_FLOW  CB_PRESS  CB_TEMP  STEAM_FLOW  STEAM_TEMP  \\\n",
      "0      01-07-21 00:10  311727.0      3.15    129.0         4.0       213.0   \n",
      "1      01-07-21 00:20  315163.0      3.16    129.0         4.0       209.0   \n",
      "2      01-07-21 00:30  314595.0      3.16    128.0         4.0       205.0   \n",
      "3      01-07-21 00:40  312465.0      3.16    127.0         4.0       200.0   \n",
      "4      01-07-21 00:50  302981.0      3.11    126.0         4.0       194.0   \n",
      "...               ...       ...       ...      ...         ...         ...   \n",
      "25400  31-12-21 23:10  278198.0      2.75     76.0         2.0       189.0   \n",
      "25401  31-12-21 23:20  286486.0      2.80     77.0         1.0       190.0   \n",
      "25402  31-12-21 23:30  284500.0      2.81     77.0         0.0       191.0   \n",
      "25403  31-12-21 23:40  284455.0      2.83     77.0         1.0       190.0   \n",
      "25404  31-12-21 23:50  274728.0      2.73     77.0         2.0       189.0   \n",
      "\n",
      "       STEAM_PRESS  O2_PRESS  O2_FLOW  O2_PER  ...  TOP_TEMP2  TOP_TEMP3  \\\n",
      "0             3.34      3.20   7296.0   23.08  ...      135.0      107.0   \n",
      "1             3.35      3.20   7829.0   23.08  ...      143.0      109.0   \n",
      "2             3.35      3.21   7904.0   23.08  ...      138.0      110.0   \n",
      "3             3.35      3.21   7919.0   23.08  ...      128.0      102.0   \n",
      "4             3.29      3.16   7938.0   23.08  ...      139.0      112.0   \n",
      "...            ...       ...      ...     ...  ...        ...        ...   \n",
      "25400         2.92      2.79   2628.0   22.25  ...      116.0      108.0   \n",
      "25401         2.97      2.84   2590.0   22.22  ...      113.0      105.0   \n",
      "25402         2.98      2.85   2592.0   22.20  ...      116.0      108.0   \n",
      "25403         3.00      2.87   2582.0   22.21  ...      119.0      113.0   \n",
      "25404         2.90      2.78   2593.0   22.23  ...      120.0      111.0   \n",
      "\n",
      "       TOP_TEMP4  TOP_SPRAY  TOP_TEMP  TOP_PRESS_1     CO    CO2    H2  \\\n",
      "0          130.0        0.0     121.0          2.0  22.22  21.00  3.88   \n",
      "1          128.0        0.0     125.0          1.0  22.56  21.00  3.94   \n",
      "2          124.0        0.0     124.0          1.0  22.49  21.08  3.94   \n",
      "3          110.0        0.0     115.0          1.0  22.36  21.13  3.99   \n",
      "4          124.0        0.0     125.0          1.0  22.25  21.30  4.10   \n",
      "...          ...        ...       ...          ...    ...    ...   ...   \n",
      "25400      122.0        0.2     111.0          1.0  21.90  20.25  3.10   \n",
      "25401      119.0        0.2     110.0          1.0  22.09  20.14  3.04   \n",
      "25402      115.0        0.1     110.0          1.0  22.04  20.20  2.99   \n",
      "25403      121.0        0.2     115.0          1.0  22.03  20.27  3.09   \n",
      "25404      121.0        0.1     116.0          1.0  22.03  20.35  3.23   \n",
      "\n",
      "       SKIN_TEMP_AVG  \n",
      "0          69.940478  \n",
      "1          71.454476  \n",
      "2          70.579462  \n",
      "3          70.179791  \n",
      "4          70.728470  \n",
      "...              ...  \n",
      "25400      65.923014  \n",
      "25401      64.321354  \n",
      "25402      64.253390  \n",
      "25403      63.478089  \n",
      "25404      62.793448  \n",
      "\n",
      "[25405 rows x 26 columns]\n"
     ]
    }
   ],
   "source": [
    "# d =  pd.read_csv(\"E:/Internship/Silica-prediction-in-blast-furnace/datasets/bf3_data_2022_01_07.csv\")\n",
    "# print(d)\n",
    "df = pd.read_excel(\"E:/Internship/Silica-prediction-in-blast-furnace/datasets/bf3_data_2022_01_07.xlsx\")\n",
    "print(df)"
   ]
  },
  {
   "cell_type": "code",
   "execution_count": 35,
   "metadata": {},
   "outputs": [
    {
     "data": {
      "text/html": [
       "<div>\n",
       "<style scoped>\n",
       "    .dataframe tbody tr th:only-of-type {\n",
       "        vertical-align: middle;\n",
       "    }\n",
       "\n",
       "    .dataframe tbody tr th {\n",
       "        vertical-align: top;\n",
       "    }\n",
       "\n",
       "    .dataframe thead th {\n",
       "        text-align: right;\n",
       "    }\n",
       "</style>\n",
       "<table border=\"1\" class=\"dataframe\">\n",
       "  <thead>\n",
       "    <tr style=\"text-align: right;\">\n",
       "      <th></th>\n",
       "      <th>DATE_TIME</th>\n",
       "      <th>CB_FLOW</th>\n",
       "      <th>CB_PRESS</th>\n",
       "      <th>CB_TEMP</th>\n",
       "      <th>STEAM_FLOW</th>\n",
       "      <th>STEAM_TEMP</th>\n",
       "      <th>STEAM_PRESS</th>\n",
       "      <th>O2_PRESS</th>\n",
       "      <th>O2_FLOW</th>\n",
       "      <th>O2_PER</th>\n",
       "      <th>...</th>\n",
       "      <th>TOP_TEMP2</th>\n",
       "      <th>TOP_TEMP3</th>\n",
       "      <th>TOP_TEMP4</th>\n",
       "      <th>TOP_SPRAY</th>\n",
       "      <th>TOP_TEMP</th>\n",
       "      <th>TOP_PRESS_1</th>\n",
       "      <th>CO</th>\n",
       "      <th>CO2</th>\n",
       "      <th>H2</th>\n",
       "      <th>SKIN_TEMP_AVG</th>\n",
       "    </tr>\n",
       "  </thead>\n",
       "  <tbody>\n",
       "    <tr>\n",
       "      <th>0</th>\n",
       "      <td>01-07-21 00:10</td>\n",
       "      <td>311727.0</td>\n",
       "      <td>3.15</td>\n",
       "      <td>129.0</td>\n",
       "      <td>4.0</td>\n",
       "      <td>213.0</td>\n",
       "      <td>3.34</td>\n",
       "      <td>3.20</td>\n",
       "      <td>7296.0</td>\n",
       "      <td>23.08</td>\n",
       "      <td>...</td>\n",
       "      <td>135.0</td>\n",
       "      <td>107.0</td>\n",
       "      <td>130.0</td>\n",
       "      <td>0.0</td>\n",
       "      <td>121.0</td>\n",
       "      <td>2.0</td>\n",
       "      <td>22.22</td>\n",
       "      <td>21.00</td>\n",
       "      <td>3.88</td>\n",
       "      <td>69.940478</td>\n",
       "    </tr>\n",
       "    <tr>\n",
       "      <th>1</th>\n",
       "      <td>01-07-21 00:20</td>\n",
       "      <td>315163.0</td>\n",
       "      <td>3.16</td>\n",
       "      <td>129.0</td>\n",
       "      <td>4.0</td>\n",
       "      <td>209.0</td>\n",
       "      <td>3.35</td>\n",
       "      <td>3.20</td>\n",
       "      <td>7829.0</td>\n",
       "      <td>23.08</td>\n",
       "      <td>...</td>\n",
       "      <td>143.0</td>\n",
       "      <td>109.0</td>\n",
       "      <td>128.0</td>\n",
       "      <td>0.0</td>\n",
       "      <td>125.0</td>\n",
       "      <td>1.0</td>\n",
       "      <td>22.56</td>\n",
       "      <td>21.00</td>\n",
       "      <td>3.94</td>\n",
       "      <td>71.454476</td>\n",
       "    </tr>\n",
       "    <tr>\n",
       "      <th>2</th>\n",
       "      <td>01-07-21 00:30</td>\n",
       "      <td>314595.0</td>\n",
       "      <td>3.16</td>\n",
       "      <td>128.0</td>\n",
       "      <td>4.0</td>\n",
       "      <td>205.0</td>\n",
       "      <td>3.35</td>\n",
       "      <td>3.21</td>\n",
       "      <td>7904.0</td>\n",
       "      <td>23.08</td>\n",
       "      <td>...</td>\n",
       "      <td>138.0</td>\n",
       "      <td>110.0</td>\n",
       "      <td>124.0</td>\n",
       "      <td>0.0</td>\n",
       "      <td>124.0</td>\n",
       "      <td>1.0</td>\n",
       "      <td>22.49</td>\n",
       "      <td>21.08</td>\n",
       "      <td>3.94</td>\n",
       "      <td>70.579462</td>\n",
       "    </tr>\n",
       "    <tr>\n",
       "      <th>3</th>\n",
       "      <td>01-07-21 00:40</td>\n",
       "      <td>312465.0</td>\n",
       "      <td>3.16</td>\n",
       "      <td>127.0</td>\n",
       "      <td>4.0</td>\n",
       "      <td>200.0</td>\n",
       "      <td>3.35</td>\n",
       "      <td>3.21</td>\n",
       "      <td>7919.0</td>\n",
       "      <td>23.08</td>\n",
       "      <td>...</td>\n",
       "      <td>128.0</td>\n",
       "      <td>102.0</td>\n",
       "      <td>110.0</td>\n",
       "      <td>0.0</td>\n",
       "      <td>115.0</td>\n",
       "      <td>1.0</td>\n",
       "      <td>22.36</td>\n",
       "      <td>21.13</td>\n",
       "      <td>3.99</td>\n",
       "      <td>70.179791</td>\n",
       "    </tr>\n",
       "    <tr>\n",
       "      <th>4</th>\n",
       "      <td>01-07-21 00:50</td>\n",
       "      <td>302981.0</td>\n",
       "      <td>3.11</td>\n",
       "      <td>126.0</td>\n",
       "      <td>4.0</td>\n",
       "      <td>194.0</td>\n",
       "      <td>3.29</td>\n",
       "      <td>3.16</td>\n",
       "      <td>7938.0</td>\n",
       "      <td>23.08</td>\n",
       "      <td>...</td>\n",
       "      <td>139.0</td>\n",
       "      <td>112.0</td>\n",
       "      <td>124.0</td>\n",
       "      <td>0.0</td>\n",
       "      <td>125.0</td>\n",
       "      <td>1.0</td>\n",
       "      <td>22.25</td>\n",
       "      <td>21.30</td>\n",
       "      <td>4.10</td>\n",
       "      <td>70.728470</td>\n",
       "    </tr>\n",
       "  </tbody>\n",
       "</table>\n",
       "<p>5 rows × 26 columns</p>\n",
       "</div>"
      ],
      "text/plain": [
       "        DATE_TIME   CB_FLOW  CB_PRESS  CB_TEMP  STEAM_FLOW  STEAM_TEMP  \\\n",
       "0  01-07-21 00:10  311727.0      3.15    129.0         4.0       213.0   \n",
       "1  01-07-21 00:20  315163.0      3.16    129.0         4.0       209.0   \n",
       "2  01-07-21 00:30  314595.0      3.16    128.0         4.0       205.0   \n",
       "3  01-07-21 00:40  312465.0      3.16    127.0         4.0       200.0   \n",
       "4  01-07-21 00:50  302981.0      3.11    126.0         4.0       194.0   \n",
       "\n",
       "   STEAM_PRESS  O2_PRESS  O2_FLOW  O2_PER  ...  TOP_TEMP2  TOP_TEMP3  \\\n",
       "0         3.34      3.20   7296.0   23.08  ...      135.0      107.0   \n",
       "1         3.35      3.20   7829.0   23.08  ...      143.0      109.0   \n",
       "2         3.35      3.21   7904.0   23.08  ...      138.0      110.0   \n",
       "3         3.35      3.21   7919.0   23.08  ...      128.0      102.0   \n",
       "4         3.29      3.16   7938.0   23.08  ...      139.0      112.0   \n",
       "\n",
       "   TOP_TEMP4  TOP_SPRAY  TOP_TEMP  TOP_PRESS_1     CO    CO2    H2  \\\n",
       "0      130.0        0.0     121.0          2.0  22.22  21.00  3.88   \n",
       "1      128.0        0.0     125.0          1.0  22.56  21.00  3.94   \n",
       "2      124.0        0.0     124.0          1.0  22.49  21.08  3.94   \n",
       "3      110.0        0.0     115.0          1.0  22.36  21.13  3.99   \n",
       "4      124.0        0.0     125.0          1.0  22.25  21.30  4.10   \n",
       "\n",
       "   SKIN_TEMP_AVG  \n",
       "0      69.940478  \n",
       "1      71.454476  \n",
       "2      70.579462  \n",
       "3      70.179791  \n",
       "4      70.728470  \n",
       "\n",
       "[5 rows x 26 columns]"
      ]
     },
     "execution_count": 35,
     "metadata": {},
     "output_type": "execute_result"
    }
   ],
   "source": [
    "df.head()"
   ]
  },
  {
   "cell_type": "code",
   "execution_count": 36,
   "metadata": {},
   "outputs": [
    {
     "name": "stdout",
     "output_type": "stream",
     "text": [
      "<class 'pandas.core.frame.DataFrame'>\n",
      "RangeIndex: 25405 entries, 0 to 25404\n",
      "Data columns (total 26 columns):\n",
      " #   Column         Non-Null Count  Dtype  \n",
      "---  ------         --------------  -----  \n",
      " 0   DATE_TIME      25405 non-null  object \n",
      " 1   CB_FLOW        22740 non-null  float64\n",
      " 2   CB_PRESS       25373 non-null  float64\n",
      " 3   CB_TEMP        25373 non-null  float64\n",
      " 4   STEAM_FLOW     22740 non-null  float64\n",
      " 5   STEAM_TEMP     25373 non-null  float64\n",
      " 6   STEAM_PRESS    25373 non-null  float64\n",
      " 7   O2_PRESS       25373 non-null  float64\n",
      " 8   O2_FLOW        22740 non-null  float64\n",
      " 9   O2_PER         25373 non-null  float64\n",
      " 10  PCI            22740 non-null  float64\n",
      " 11  ATM_HUMID      25373 non-null  float64\n",
      " 12  HB_TEMP        21588 non-null  float64\n",
      " 13  HB_PRESS       22659 non-null  float64\n",
      " 14  TOP_PRESS      22740 non-null  float64\n",
      " 15  TOP_TEMP1      25373 non-null  float64\n",
      " 16  TOP_TEMP2      25373 non-null  float64\n",
      " 17  TOP_TEMP3      25373 non-null  float64\n",
      " 18  TOP_TEMP4      25373 non-null  float64\n",
      " 19  TOP_SPRAY      25373 non-null  float64\n",
      " 20  TOP_TEMP       25373 non-null  float64\n",
      " 21  TOP_PRESS_1    22740 non-null  float64\n",
      " 22  CO             22740 non-null  float64\n",
      " 23  CO2            22740 non-null  float64\n",
      " 24  H2             22740 non-null  float64\n",
      " 25  SKIN_TEMP_AVG  25373 non-null  float64\n",
      "dtypes: float64(25), object(1)\n",
      "memory usage: 5.0+ MB\n"
     ]
    }
   ],
   "source": [
    "df.info()"
   ]
  },
  {
   "cell_type": "code",
   "execution_count": 37,
   "metadata": {},
   "outputs": [
    {
     "data": {
      "text/plain": [
       "DATE_TIME           0\n",
       "CB_FLOW          2665\n",
       "CB_PRESS           32\n",
       "CB_TEMP            32\n",
       "STEAM_FLOW       2665\n",
       "STEAM_TEMP         32\n",
       "STEAM_PRESS        32\n",
       "O2_PRESS           32\n",
       "O2_FLOW          2665\n",
       "O2_PER             32\n",
       "PCI              2665\n",
       "ATM_HUMID          32\n",
       "HB_TEMP          3817\n",
       "HB_PRESS         2746\n",
       "TOP_PRESS        2665\n",
       "TOP_TEMP1          32\n",
       "TOP_TEMP2          32\n",
       "TOP_TEMP3          32\n",
       "TOP_TEMP4          32\n",
       "TOP_SPRAY          32\n",
       "TOP_TEMP           32\n",
       "TOP_PRESS_1      2665\n",
       "CO               2665\n",
       "CO2              2665\n",
       "H2               2665\n",
       "SKIN_TEMP_AVG      32\n",
       "dtype: int64"
      ]
     },
     "execution_count": 37,
     "metadata": {},
     "output_type": "execute_result"
    }
   ],
   "source": [
    "df.isna().sum()"
   ]
  },
  {
   "cell_type": "code",
   "execution_count": 38,
   "metadata": {},
   "outputs": [
    {
     "data": {
      "text/plain": [
       "(25405, 26)"
      ]
     },
     "execution_count": 38,
     "metadata": {},
     "output_type": "execute_result"
    }
   ],
   "source": [
    "df.shape"
   ]
  },
  {
   "cell_type": "code",
   "execution_count": 39,
   "metadata": {},
   "outputs": [
    {
     "data": {
      "text/plain": [
       "CB_FLOW          0\n",
       "CB_PRESS         0\n",
       "CB_TEMP          0\n",
       "STEAM_FLOW       0\n",
       "STEAM_TEMP       0\n",
       "STEAM_PRESS      0\n",
       "O2_PRESS         0\n",
       "O2_FLOW          0\n",
       "O2_PER           0\n",
       "PCI              0\n",
       "ATM_HUMID        0\n",
       "HB_TEMP          0\n",
       "HB_PRESS         0\n",
       "TOP_PRESS        0\n",
       "TOP_TEMP1        0\n",
       "TOP_TEMP2        0\n",
       "TOP_TEMP3        0\n",
       "TOP_TEMP4        0\n",
       "TOP_SPRAY        0\n",
       "TOP_TEMP         0\n",
       "TOP_PRESS_1      0\n",
       "CO               0\n",
       "CO2              0\n",
       "H2               0\n",
       "SKIN_TEMP_AVG    0\n",
       "dtype: int64"
      ]
     },
     "execution_count": 39,
     "metadata": {},
     "output_type": "execute_result"
    }
   ],
   "source": [
    "df.pop('DATE_TIME')\n",
    "df.fillna('NaN', inplace = True)\n",
    "df.isna().sum()"
   ]
  },
  {
   "cell_type": "code",
   "execution_count": 40,
   "metadata": {},
   "outputs": [
    {
     "data": {
      "text/plain": [
       "CB_FLOW          0\n",
       "CB_PRESS         0\n",
       "CB_TEMP          0\n",
       "STEAM_FLOW       0\n",
       "STEAM_TEMP       0\n",
       "STEAM_PRESS      0\n",
       "O2_PRESS         0\n",
       "O2_FLOW          0\n",
       "O2_PER           0\n",
       "PCI              0\n",
       "ATM_HUMID        0\n",
       "HB_TEMP          0\n",
       "HB_PRESS         0\n",
       "TOP_PRESS        0\n",
       "TOP_TEMP1        0\n",
       "TOP_TEMP2        0\n",
       "TOP_TEMP3        0\n",
       "TOP_TEMP4        0\n",
       "TOP_SPRAY        0\n",
       "TOP_TEMP         0\n",
       "TOP_PRESS_1      0\n",
       "CO               0\n",
       "CO2              0\n",
       "H2               0\n",
       "SKIN_TEMP_AVG    0\n",
       "dtype: int64"
      ]
     },
     "execution_count": 40,
     "metadata": {},
     "output_type": "execute_result"
    }
   ],
   "source": [
    "df1 = df.dropna()\n",
    "df.isna().sum()"
   ]
  },
  {
   "cell_type": "code",
   "execution_count": 41,
   "metadata": {},
   "outputs": [
    {
     "data": {
      "text/plain": [
       "(25405, 25)"
      ]
     },
     "execution_count": 41,
     "metadata": {},
     "output_type": "execute_result"
    }
   ],
   "source": [
    "df1.shape"
   ]
  }
 ],
 "metadata": {
  "kernelspec": {
   "display_name": "Python 3.10.5 64-bit",
   "language": "python",
   "name": "python3"
  },
  "language_info": {
   "codemirror_mode": {
    "name": "ipython",
    "version": 3
   },
   "file_extension": ".py",
   "mimetype": "text/x-python",
   "name": "python",
   "nbconvert_exporter": "python",
   "pygments_lexer": "ipython3",
   "version": "3.10.5"
  },
  "orig_nbformat": 4,
  "vscode": {
   "interpreter": {
    "hash": "97439cd01efef9e7df52ca3a38447b000602590ade68d36fbbc9660652027487"
   }
  }
 },
 "nbformat": 4,
 "nbformat_minor": 2
}
